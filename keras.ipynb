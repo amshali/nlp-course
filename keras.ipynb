{
 "cells": [
  {
   "cell_type": "code",
   "execution_count": 3,
   "metadata": {},
   "outputs": [
    {
     "name": "stdout",
     "output_type": "stream",
     "text": [
      "2.1.0\n"
     ]
    }
   ],
   "source": [
    "from __future__ import absolute_import, division, print_function, unicode_literals\n",
    "\n",
    "# TensorFlow and tf.keras\n",
    "import tensorflow as tf\n",
    "from tensorflow import keras\n",
    "\n",
    "# Helper libraries\n",
    "import numpy as np\n",
    "import matplotlib.pyplot as plt\n",
    "\n",
    "print(tf.__version__)\n"
   ]
  },
  {
   "cell_type": "code",
   "execution_count": 4,
   "metadata": {},
   "outputs": [
    {
     "name": "stdout",
     "output_type": "stream",
     "text": [
      "Downloading data from https://storage.googleapis.com/tensorflow/tf-keras-datasets/train-labels-idx1-ubyte.gz\n",
      "32768/29515 [=================================] - 0s 1us/step\n",
      "Downloading data from https://storage.googleapis.com/tensorflow/tf-keras-datasets/train-images-idx3-ubyte.gz\n",
      "26427392/26421880 [==============================] - 1s 0us/step\n",
      "Downloading data from https://storage.googleapis.com/tensorflow/tf-keras-datasets/t10k-labels-idx1-ubyte.gz\n",
      "8192/5148 [===============================================] - 0s 0us/step\n",
      "Downloading data from https://storage.googleapis.com/tensorflow/tf-keras-datasets/t10k-images-idx3-ubyte.gz\n",
      "4423680/4422102 [==============================] - 0s 0us/step\n"
     ]
    }
   ],
   "source": [
    "fashion_mnist = keras.datasets.fashion_mnist\n",
    "\n",
    "(train_images, train_labels), (test_images, test_labels) = fashion_mnist.load_data()\n"
   ]
  },
  {
   "cell_type": "code",
   "execution_count": 5,
   "metadata": {},
   "outputs": [],
   "source": [
    "class_names = ['T-shirt/top', 'Trouser', 'Pullover', 'Dress', 'Coat',\n",
    "               'Sandal', 'Shirt', 'Sneaker', 'Bag', 'Ankle boot']\n"
   ]
  },
  {
   "cell_type": "code",
   "execution_count": 6,
   "metadata": {},
   "outputs": [
    {
     "data": {
      "text/plain": [
       "(60000, 28, 28)"
      ]
     },
     "execution_count": 6,
     "metadata": {},
     "output_type": "execute_result"
    }
   ],
   "source": [
    "train_images.shape\n"
   ]
  },
  {
   "cell_type": "code",
   "execution_count": 7,
   "metadata": {},
   "outputs": [
    {
     "data": {
      "text/plain": [
       "60000"
      ]
     },
     "execution_count": 7,
     "metadata": {},
     "output_type": "execute_result"
    }
   ],
   "source": [
    "len(train_labels)\n"
   ]
  },
  {
   "cell_type": "code",
   "execution_count": 8,
   "metadata": {},
   "outputs": [
    {
     "data": {
      "text/plain": [
       "array([9, 0, 0, ..., 3, 0, 5], dtype=uint8)"
      ]
     },
     "execution_count": 8,
     "metadata": {},
     "output_type": "execute_result"
    }
   ],
   "source": [
    "train_labels\n"
   ]
  },
  {
   "cell_type": "code",
   "execution_count": 25,
   "metadata": {},
   "outputs": [
    {
     "name": "stdout",
     "output_type": "stream",
     "text": [
      "[[0.         0.         0.         0.         0.         0.\n",
      "  0.         0.04313725 0.55686275 0.78431373 0.41568627 0.\n",
      "  0.         0.         0.         0.         0.         0.\n",
      "  0.33333333 0.7254902  0.43921569 0.         0.         0.\n",
      "  0.         0.         0.         0.        ]\n",
      " [0.         0.         0.         0.         0.         0.\n",
      "  0.59607843 0.83921569 0.85098039 0.76078431 0.9254902  0.84705882\n",
      "  0.73333333 0.58431373 0.52941176 0.6        0.82745098 0.85098039\n",
      "  0.90588235 0.80392157 0.85098039 0.7372549  0.13333333 0.\n",
      "  0.         0.         0.         0.        ]\n",
      " [0.         0.         0.         0.         0.         0.25882353\n",
      "  0.7254902  0.65098039 0.70588235 0.70980392 0.74509804 0.82745098\n",
      "  0.86666667 0.77254902 0.57254902 0.77647059 0.80784314 0.74901961\n",
      "  0.65882353 0.74509804 0.6745098  0.7372549  0.68627451 0.\n",
      "  0.         0.         0.         0.        ]\n",
      " [0.         0.         0.         0.         0.         0.52941176\n",
      "  0.6        0.62745098 0.68627451 0.70588235 0.66666667 0.72941176\n",
      "  0.73333333 0.74509804 0.7372549  0.74509804 0.73333333 0.68235294\n",
      "  0.76470588 0.7254902  0.68235294 0.63137255 0.68627451 0.23137255\n",
      "  0.         0.         0.         0.        ]\n",
      " [0.         0.         0.         0.         0.         0.63137255\n",
      "  0.57647059 0.62745098 0.66666667 0.69803922 0.69411765 0.70588235\n",
      "  0.65882353 0.67843137 0.68235294 0.67058824 0.7254902  0.72156863\n",
      "  0.7254902  0.6745098  0.67058824 0.64313725 0.68235294 0.47058824\n",
      "  0.         0.         0.         0.        ]\n",
      " [0.         0.         0.         0.         0.00784314 0.68627451\n",
      "  0.57254902 0.56862745 0.65882353 0.69803922 0.70980392 0.7254902\n",
      "  0.70588235 0.72156863 0.69803922 0.70196078 0.73333333 0.74901961\n",
      "  0.75686275 0.74509804 0.70980392 0.67058824 0.6745098  0.61960784\n",
      "  0.         0.         0.         0.        ]\n",
      " [0.         0.         0.         0.         0.1372549  0.69411765\n",
      "  0.60784314 0.54901961 0.59215686 0.6745098  0.74901961 0.73333333\n",
      "  0.72941176 0.73333333 0.72941176 0.73333333 0.71372549 0.74901961\n",
      "  0.76078431 0.7372549  0.70588235 0.63137255 0.63137255 0.7254902\n",
      "  0.         0.         0.         0.        ]\n",
      " [0.         0.         0.         0.         0.23137255 0.66666667\n",
      "  0.6        0.55294118 0.47058824 0.60392157 0.62745098 0.63137255\n",
      "  0.6745098  0.65882353 0.65098039 0.63137255 0.64705882 0.6745098\n",
      "  0.66666667 0.64313725 0.54509804 0.58431373 0.63529412 0.65098039\n",
      "  0.08235294 0.         0.         0.        ]\n",
      " [0.         0.         0.         0.         0.30980392 0.56862745\n",
      "  0.62745098 0.83921569 0.48235294 0.50196078 0.6        0.62745098\n",
      "  0.64313725 0.61960784 0.61568627 0.60392157 0.60784314 0.66666667\n",
      "  0.64705882 0.55294118 0.76470588 0.75686275 0.59607843 0.65098039\n",
      "  0.23921569 0.         0.         0.        ]\n",
      " [0.         0.         0.         0.         0.39215686 0.61568627\n",
      "  0.88235294 0.96078431 0.68627451 0.44313725 0.68235294 0.61960784\n",
      "  0.61960784 0.62745098 0.60784314 0.62745098 0.64313725 0.69803922\n",
      "  0.7372549  0.52941176 0.7254902  0.94117647 0.78823529 0.6745098\n",
      "  0.42352941 0.         0.         0.        ]\n",
      " [0.         0.         0.         0.         0.         0.12156863\n",
      "  0.68235294 0.10980392 0.49411765 0.6        0.65098039 0.59607843\n",
      "  0.61960784 0.61960784 0.62745098 0.63137255 0.61568627 0.65882353\n",
      "  0.74901961 0.7372549  0.07058824 0.51764706 0.62352941 0.02745098\n",
      "  0.         0.         0.         0.        ]\n",
      " [0.         0.         0.         0.         0.         0.\n",
      "  0.         0.         0.32156863 0.73333333 0.62352941 0.6\n",
      "  0.61568627 0.61960784 0.63529412 0.64313725 0.64313725 0.60392157\n",
      "  0.73333333 0.74509804 0.         0.         0.         0.\n",
      "  0.         0.         0.         0.        ]\n",
      " [0.         0.         0.         0.         0.00392157 0.01176471\n",
      "  0.01960784 0.         0.14509804 0.68627451 0.61960784 0.60784314\n",
      "  0.63529412 0.61960784 0.62745098 0.63529412 0.64705882 0.6\n",
      "  0.69411765 0.80392157 0.         0.         0.01176471 0.01176471\n",
      "  0.         0.         0.         0.        ]\n",
      " [0.         0.         0.         0.         0.         0.\n",
      "  0.00392157 0.         0.09803922 0.68627451 0.59607843 0.62745098\n",
      "  0.61960784 0.63137255 0.62745098 0.64313725 0.64313725 0.63137255\n",
      "  0.65098039 0.78431373 0.         0.         0.00392157 0.\n",
      "  0.         0.         0.         0.        ]\n",
      " [0.         0.         0.         0.         0.         0.\n",
      "  0.01568627 0.         0.11764706 0.67058824 0.57647059 0.64313725\n",
      "  0.60784314 0.64705882 0.63137255 0.64705882 0.63529412 0.66666667\n",
      "  0.64313725 0.63529412 0.         0.         0.00784314 0.\n",
      "  0.         0.         0.         0.        ]\n",
      " [0.         0.         0.         0.         0.         0.\n",
      "  0.01568627 0.         0.22352941 0.65098039 0.60784314 0.64313725\n",
      "  0.65098039 0.63137255 0.63137255 0.64313725 0.65490196 0.64705882\n",
      "  0.64705882 0.63529412 0.10980392 0.         0.01176471 0.\n",
      "  0.         0.         0.         0.        ]\n",
      " [0.         0.         0.         0.         0.         0.\n",
      "  0.01176471 0.         0.44705882 0.63137255 0.63137255 0.65098039\n",
      "  0.62352941 0.65882353 0.63137255 0.63137255 0.6745098  0.63529412\n",
      "  0.64705882 0.67058824 0.19607843 0.         0.01960784 0.\n",
      "  0.         0.         0.         0.        ]\n",
      " [0.         0.         0.         0.         0.         0.\n",
      "  0.00392157 0.         0.58431373 0.61568627 0.65490196 0.6745098\n",
      "  0.62352941 0.6745098  0.64313725 0.63137255 0.6745098  0.66666667\n",
      "  0.62745098 0.67058824 0.34901961 0.         0.01568627 0.\n",
      "  0.         0.         0.         0.        ]\n",
      " [0.         0.         0.         0.         0.         0.00784314\n",
      "  0.         0.01568627 0.67058824 0.64313725 0.65098039 0.67843137\n",
      "  0.62352941 0.70196078 0.65098039 0.62745098 0.68235294 0.65490196\n",
      "  0.63529412 0.65098039 0.50196078 0.         0.00784314 0.\n",
      "  0.         0.         0.         0.        ]\n",
      " [0.         0.         0.         0.         0.         0.01176471\n",
      "  0.         0.07058824 0.59607843 0.67843137 0.62745098 0.70196078\n",
      "  0.60392157 0.70980392 0.65098039 0.64313725 0.68627451 0.66666667\n",
      "  0.65098039 0.66666667 0.64313725 0.         0.         0.00392157\n",
      "  0.         0.         0.         0.        ]\n",
      " [0.         0.         0.         0.         0.         0.01568627\n",
      "  0.         0.18431373 0.64705882 0.6745098  0.65490196 0.7254902\n",
      "  0.6        0.73333333 0.67843137 0.64705882 0.68235294 0.70196078\n",
      "  0.65098039 0.65098039 0.61960784 0.01960784 0.         0.01176471\n",
      "  0.         0.         0.         0.        ]\n",
      " [0.         0.         0.         0.         0.         0.01568627\n",
      "  0.         0.34117647 0.70588235 0.63529412 0.70196078 0.70196078\n",
      "  0.61568627 0.74901961 0.71372549 0.64705882 0.65882353 0.74509804\n",
      "  0.67843137 0.64705882 0.65098039 0.07843137 0.         0.01568627\n",
      "  0.         0.         0.         0.        ]\n",
      " [0.         0.         0.         0.         0.         0.01568627\n",
      "  0.         0.41176471 0.73333333 0.61568627 0.76078431 0.68627451\n",
      "  0.63137255 0.74509804 0.72156863 0.66666667 0.61960784 0.80392157\n",
      "  0.69411765 0.65882353 0.67058824 0.17254902 0.         0.01568627\n",
      "  0.         0.         0.         0.        ]\n",
      " [0.         0.         0.         0.         0.         0.01960784\n",
      "  0.         0.54117647 0.70980392 0.61960784 0.80392157 0.62745098\n",
      "  0.65490196 0.74509804 0.77647059 0.65490196 0.59607843 0.85490196\n",
      "  0.72941176 0.66666667 0.6745098  0.22352941 0.         0.01960784\n",
      "  0.         0.         0.         0.        ]\n",
      " [0.         0.         0.         0.         0.         0.01960784\n",
      "  0.         0.52941176 0.68235294 0.65490196 0.78039216 0.60784314\n",
      "  0.65098039 0.78823529 0.85882353 0.64705882 0.61960784 0.85490196\n",
      "  0.7372549  0.65490196 0.68627451 0.21960784 0.         0.02745098\n",
      "  0.         0.         0.         0.        ]\n",
      " [0.         0.         0.         0.         0.         0.01960784\n",
      "  0.         0.50588235 0.67058824 0.6745098  0.69411765 0.6\n",
      "  0.62352941 0.80784314 0.84705882 0.58039216 0.61568627 0.80784314\n",
      "  0.74509804 0.64705882 0.68627451 0.18823529 0.         0.01960784\n",
      "  0.         0.         0.         0.        ]\n",
      " [0.         0.         0.         0.         0.         0.01960784\n",
      "  0.         0.65490196 0.73333333 0.71372549 0.77647059 0.76078431\n",
      "  0.78431373 0.88627451 0.94117647 0.72156863 0.80784314 1.\n",
      "  0.77254902 0.69803922 0.70196078 0.16470588 0.         0.01960784\n",
      "  0.         0.         0.         0.        ]\n",
      " [0.         0.         0.         0.         0.         0.01176471\n",
      "  0.         0.45098039 0.52941176 0.44313725 0.41568627 0.33333333\n",
      "  0.32156863 0.42352941 0.52156863 0.3254902  0.35294118 0.4745098\n",
      "  0.47058824 0.43137255 0.61960784 0.07058824 0.         0.01176471\n",
      "  0.         0.         0.         0.        ]]\n"
     ]
    }
   ],
   "source": [
    "test_images.shape\n",
    "len(test_images)\n",
    "print(train_images[10] / 255)"
   ]
  },
  {
   "cell_type": "code",
   "execution_count": 31,
   "metadata": {},
   "outputs": [
    {
     "data": {
      "image/png": "[encoded data removed]",
      "text/plain": [
       "<Figure size 432x288 with 2 Axes>"
      ]
     },
     "metadata": {
      "needs_background": "light"
     },
     "output_type": "display_data"
    }
   ],
   "source": [
    "i = train_images[10]\n",
    "plt.figure()\n",
    "plt.imshow(i)\n",
    "plt.colorbar()\n",
    "plt.grid(True)\n",
    "plt.show()\n"
   ]
  },
  {
   "cell_type": "code",
   "execution_count": null,
   "metadata": {},
   "outputs": [],
   "source": []
  },
  {
   "cell_type": "code",
   "execution_count": null,
   "metadata": {},
   "outputs": [],
   "source": []
  },
  {
   "cell_type": "code",
   "execution_count": null,
   "metadata": {},
   "outputs": [],
   "source": []
  },
  {
   "cell_type": "code",
   "execution_count": null,
   "metadata": {},
   "outputs": [],
   "source": []
  },
  {
   "cell_type": "code",
   "execution_count": null,
   "metadata": {},
   "outputs": [],
   "source": []
  },
  {
   "cell_type": "code",
   "execution_count": null,
   "metadata": {},
   "outputs": [],
   "source": []
  },
  {
   "cell_type": "code",
   "execution_count": null,
   "metadata": {},
   "outputs": [],
   "source": []
  },
  {
   "cell_type": "code",
   "execution_count": null,
   "metadata": {},
   "outputs": [],
   "source": []
  },
  {
   "cell_type": "code",
   "execution_count": null,
   "metadata": {},
   "outputs": [],
   "source": []
  },
  {
   "cell_type": "code",
   "execution_count": null,
   "metadata": {},
   "outputs": [],
   "source": []
  },
  {
   "cell_type": "code",
   "execution_count": null,
   "metadata": {},
   "outputs": [],
   "source": []
  },
  {
   "cell_type": "code",
   "execution_count": null,
   "metadata": {},
   "outputs": [],
   "source": []
  },
  {
   "cell_type": "code",
   "execution_count": null,
   "metadata": {},
   "outputs": [],
   "source": []
  },
  {
   "cell_type": "code",
   "execution_count": null,
   "metadata": {},
   "outputs": [],
   "source": []
  },
  {
   "cell_type": "code",
   "execution_count": null,
   "metadata": {},
   "outputs": [],
   "source": []
  },
  {
   "cell_type": "code",
   "execution_count": null,
   "metadata": {},
   "outputs": [],
   "source": []
  },
  {
   "cell_type": "code",
   "execution_count": null,
   "metadata": {},
   "outputs": [],
   "source": []
  },
  {
   "cell_type": "code",
   "execution_count": null,
   "metadata": {},
   "outputs": [],
   "source": []
  },
  {
   "cell_type": "code",
   "execution_count": null,
   "metadata": {},
   "outputs": [],
   "source": []
  },
  {
   "cell_type": "code",
   "execution_count": null,
   "metadata": {},
   "outputs": [],
   "source": []
  },
  {
   "cell_type": "code",
   "execution_count": null,
   "metadata": {},
   "outputs": [],
   "source": []
  }
 ],
 "metadata": {
  "kernelspec": {
   "display_name": "Python 3",
   "language": "python",
   "name": "python3"
  },
  "language_info": {
   "codemirror_mode": {
    "name": "ipython",
    "version": 3
   },
   "file_extension": ".py",
   "mimetype": "text/x-python",
   "name": "python",
   "nbconvert_exporter": "python",
   "pygments_lexer": "ipython3",
   "version": "3.7.3"
  }
 },
 "nbformat": 4,
 "nbformat_minor": 2
}
