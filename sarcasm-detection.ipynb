{
 "cells": [
  {
   "cell_type": "code",
   "execution_count": 98,
   "metadata": {},
   "outputs": [],
   "source": [
    "import json \n",
    "import numpy as np\n",
    "\n",
    "\n",
    "with open('/home/amshali/Code/ml/dataset/news-headlines-dataset-for-sarcasm-detection/Sarcasm_Headlines_Dataset.json') as f:\n",
    "  datastore = json.load(f)\n",
    "\n",
    "\n",
    "vocab_size = 4000\n",
    "embedding_dim = 10\n",
    "max_length = 20\n",
    "trunc_type = 'post'\n",
    "padding_type = 'post'\n",
    "oov_token = '<OOV>'\n",
    "training_size = 20000\n",
    "num_epochs = 30\n",
    "\n",
    "\n",
    "sentences = []\n",
    "labels = []\n",
    "urls = []\n",
    "\n",
    "for item in datastore:\n",
    "  sentences.append(item['headline'])\n",
    "  labels.append(item['is_sarcastic'])\n",
    "  urls.append(item['article_link'])\n",
    "\n",
    "\n",
    "training_sentences = sentences[0:training_size]\n",
    "training_labels = np.array(labels[0:training_size])\n",
    "testing_sentences = sentences[training_size:]\n",
    "testing_labels = np.array(labels[training_size:])\n",
    "\n",
    "\n",
    "import tensorflow as tf\n",
    "from tensorflow import keras\n",
    "from tensorflow.keras.preprocessing.text import Tokenizer\n",
    "from tensorflow.keras.preprocessing.sequence import pad_sequences\n",
    "\n",
    "\n",
    "tokenizer = Tokenizer(num_words=vocab_size, oov_token='<OOV>')\n",
    "tokenizer.fit_on_texts(training_sentences)\n",
    "\n",
    "# print(tokenizer.word_index)\n",
    "\n",
    "training_sequences = tokenizer.texts_to_sequences(training_sentences)\n",
    "training_padded = pad_sequences(training_sequences, \n",
    "                                maxlen=max_length, padding=padding_type,\n",
    "                                truncating=trunc_type)\n",
    "\n",
    "testing_sequences = tokenizer.texts_to_sequences(testing_sentences)\n",
    "testing_padded = pad_sequences(testing_sequences, \n",
    "                                maxlen=max_length, padding=padding_type,\n",
    "                                truncating=trunc_type)\n",
    "\n"
   ]
  },
  {
   "cell_type": "code",
   "execution_count": 99,
   "metadata": {},
   "outputs": [
    {
     "name": "stdout",
     "output_type": "stream",
     "text": [
      "Model: \"sequential_20\"\n",
      "_________________________________________________________________\n",
      "Layer (type)                 Output Shape              Param #   \n",
      "=================================================================\n",
      "embedding_20 (Embedding)     (None, 20, 10)            40000     \n",
      "_________________________________________________________________\n",
      "global_average_pooling1d_19  (None, 10)                0         \n",
      "_________________________________________________________________\n",
      "dense_40 (Dense)             (None, 16)                176       \n",
      "_________________________________________________________________\n",
      "dense_41 (Dense)             (None, 1)                 17        \n",
      "=================================================================\n",
      "Total params: 40,193\n",
      "Trainable params: 40,193\n",
      "Non-trainable params: 0\n",
      "_________________________________________________________________\n"
     ]
    }
   ],
   "source": [
    "\n",
    "model = tf.keras.Sequential([\n",
    "  tf.keras.layers.Embedding(vocab_size, embedding_dim, input_length=max_length),\n",
    "  tf.keras.layers.GlobalAveragePooling1D(),\n",
    "  tf.keras.layers.Dense(24, activation='relu'),\n",
    "  tf.keras.layers.Dense(1, activation='sigmoid')\n",
    "])\n",
    "\n",
    "\n",
    "model.compile(loss='binary_crossentropy',optimizer='adam',metrics=['accuracy'])\n",
    "model.summary()\n"
   ]
  },
  {
   "cell_type": "code",
   "execution_count": 100,
   "metadata": {},
   "outputs": [
    {
     "name": "stdout",
     "output_type": "stream",
     "text": [
      "Train on 20000 samples, validate on 6709 samples\n",
      "Epoch 1/30\n",
      "20000/20000 - 1s - loss: 0.5853 - accuracy: 0.6877 - val_loss: 0.4268 - val_accuracy: 0.8210\n",
      "Epoch 2/30\n",
      "20000/20000 - 1s - loss: 0.3506 - accuracy: 0.8549 - val_loss: 0.3658 - val_accuracy: 0.8380\n",
      "Epoch 3/30\n",
      "20000/20000 - 1s - loss: 0.2890 - accuracy: 0.8801 - val_loss: 0.3554 - val_accuracy: 0.8430\n",
      "Epoch 4/30\n",
      "20000/20000 - 1s - loss: 0.2596 - accuracy: 0.8920 - val_loss: 0.3624 - val_accuracy: 0.8407\n",
      "Epoch 5/30\n",
      "20000/20000 - 1s - loss: 0.2415 - accuracy: 0.9011 - val_loss: 0.3789 - val_accuracy: 0.8365\n",
      "Epoch 6/30\n",
      "20000/20000 - 1s - loss: 0.2295 - accuracy: 0.9051 - val_loss: 0.3883 - val_accuracy: 0.8354\n",
      "Epoch 7/30\n",
      "20000/20000 - 1s - loss: 0.2197 - accuracy: 0.9109 - val_loss: 0.4049 - val_accuracy: 0.8331\n",
      "Epoch 8/30\n",
      "20000/20000 - 1s - loss: 0.2128 - accuracy: 0.9136 - val_loss: 0.4160 - val_accuracy: 0.8341\n",
      "Epoch 9/30\n",
      "20000/20000 - 1s - loss: 0.2076 - accuracy: 0.9170 - val_loss: 0.4305 - val_accuracy: 0.8320\n",
      "Epoch 10/30\n",
      "20000/20000 - 1s - loss: 0.2021 - accuracy: 0.9183 - val_loss: 0.4452 - val_accuracy: 0.8296\n",
      "Epoch 11/30\n",
      "20000/20000 - 1s - loss: 0.1981 - accuracy: 0.9214 - val_loss: 0.4575 - val_accuracy: 0.8293\n",
      "Epoch 12/30\n",
      "20000/20000 - 1s - loss: 0.1953 - accuracy: 0.9225 - val_loss: 0.4673 - val_accuracy: 0.8307\n",
      "Epoch 13/30\n",
      "20000/20000 - 1s - loss: 0.1918 - accuracy: 0.9226 - val_loss: 0.4765 - val_accuracy: 0.8293\n",
      "Epoch 14/30\n",
      "20000/20000 - 1s - loss: 0.1893 - accuracy: 0.9252 - val_loss: 0.4903 - val_accuracy: 0.8274\n",
      "Epoch 15/30\n",
      "20000/20000 - 1s - loss: 0.1868 - accuracy: 0.9265 - val_loss: 0.4983 - val_accuracy: 0.8283\n",
      "Epoch 16/30\n",
      "20000/20000 - 1s - loss: 0.1851 - accuracy: 0.9280 - val_loss: 0.5057 - val_accuracy: 0.8243\n",
      "Epoch 17/30\n",
      "20000/20000 - 1s - loss: 0.1830 - accuracy: 0.9275 - val_loss: 0.5207 - val_accuracy: 0.8226\n",
      "Epoch 18/30\n",
      "20000/20000 - 1s - loss: 0.1812 - accuracy: 0.9286 - val_loss: 0.5248 - val_accuracy: 0.8214\n",
      "Epoch 19/30\n",
      "20000/20000 - 1s - loss: 0.1799 - accuracy: 0.9303 - val_loss: 0.5331 - val_accuracy: 0.8207\n",
      "Epoch 20/30\n",
      "20000/20000 - 1s - loss: 0.1786 - accuracy: 0.9320 - val_loss: 0.5423 - val_accuracy: 0.8201\n",
      "Epoch 21/30\n",
      "20000/20000 - 1s - loss: 0.1773 - accuracy: 0.9322 - val_loss: 0.5465 - val_accuracy: 0.8199\n",
      "Epoch 22/30\n",
      "20000/20000 - 1s - loss: 0.1760 - accuracy: 0.9317 - val_loss: 0.5521 - val_accuracy: 0.8192\n",
      "Epoch 23/30\n",
      "20000/20000 - 1s - loss: 0.1745 - accuracy: 0.9330 - val_loss: 0.5589 - val_accuracy: 0.8180\n",
      "Epoch 24/30\n",
      "20000/20000 - 1s - loss: 0.1731 - accuracy: 0.9340 - val_loss: 0.5676 - val_accuracy: 0.8177\n",
      "Epoch 25/30\n",
      "20000/20000 - 1s - loss: 0.1726 - accuracy: 0.9334 - val_loss: 0.5744 - val_accuracy: 0.8171\n",
      "Epoch 26/30\n",
      "20000/20000 - 1s - loss: 0.1713 - accuracy: 0.9348 - val_loss: 0.5794 - val_accuracy: 0.8155\n",
      "Epoch 27/30\n",
      "20000/20000 - 1s - loss: 0.1709 - accuracy: 0.9348 - val_loss: 0.5860 - val_accuracy: 0.8168\n",
      "Epoch 28/30\n",
      "20000/20000 - 1s - loss: 0.1687 - accuracy: 0.9371 - val_loss: 0.5911 - val_accuracy: 0.8173\n",
      "Epoch 29/30\n",
      "20000/20000 - 1s - loss: 0.1678 - accuracy: 0.9366 - val_loss: 0.6002 - val_accuracy: 0.8161\n",
      "Epoch 30/30\n",
      "20000/20000 - 1s - loss: 0.1665 - accuracy: 0.9380 - val_loss: 0.5992 - val_accuracy: 0.8122\n"
     ]
    }
   ],
   "source": [
    "\n",
    "fit_history = model.fit(training_padded, training_labels, \n",
    "                        epochs=num_epochs,\n",
    "                        validation_data=(testing_padded, testing_labels), verbose=2)\n"
   ]
  },
  {
   "cell_type": "code",
   "execution_count": 101,
   "metadata": {},
   "outputs": [
    {
     "data": {
      "image/png": "[encoded data removed]",
      "text/plain": [
       "<Figure size 432x288 with 1 Axes>"
      ]
     },
     "metadata": {
      "needs_background": "light"
     },
     "output_type": "display_data"
    },
    {
     "data": {
      "image/png": "[encoded data removed]",
      "text/plain": [
       "<Figure size 432x288 with 1 Axes>"
      ]
     },
     "metadata": {
      "needs_background": "light"
     },
     "output_type": "display_data"
    }
   ],
   "source": [
    "import matplotlib.pyplot as plt\n",
    "\n",
    "def plot_graphs(history, string):\n",
    "  plt.plot(history.history[string])\n",
    "  plt.plot(history.history['val_' + string])\n",
    "  plt.xlabel(\"Epochs\")\n",
    "  plt.ylabel(string)\n",
    "  plt.legend([string, 'val_' + string])\n",
    "  plt.show()\n",
    "  \n",
    "plot_graphs(fit_history, \"loss\")\n",
    "plot_graphs(fit_history, \"accuracy\")\n",
    "\n",
    "\n"
   ]
  },
  {
   "cell_type": "code",
   "execution_count": null,
   "metadata": {},
   "outputs": [],
   "source": []
  }
 ],
 "metadata": {
  "kernelspec": {
   "display_name": "Python 3",
   "language": "python",
   "name": "python3"
  },
  "language_info": {
   "codemirror_mode": {
    "name": "ipython",
    "version": 3
   },
   "file_extension": ".py",
   "mimetype": "text/x-python",
   "name": "python",
   "nbconvert_exporter": "python",
   "pygments_lexer": "ipython3",
   "version": "3.7.3"
  }
 },
 "nbformat": 4,
 "nbformat_minor": 2
}
