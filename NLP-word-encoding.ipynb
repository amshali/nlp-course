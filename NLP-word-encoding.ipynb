{
 "cells": [
  {
   "cell_type": "code",
   "execution_count": 21,
   "metadata": {},
   "outputs": [
    {
     "name": "stdout",
     "output_type": "stream",
     "text": [
      "{'<OOV>': 1, 'my': 2, 'love': 3, 'i': 4, 'dog': 5, 'cat': 6, 'bird': 7, 'you': 8, 'and': 9, 'do': 10, 'think': 11, 'is': 12, 'cool': 13}\n",
      "[[4, 3, 2, 5], [4, 3, 2, 6], [4, 3, 2, 6, 9, 2, 7], [8, 3, 2, 5], [10, 8, 11, 2, 7, 12, 13]]\n",
      "[[ 4  3  2  5  0  0  0]\n",
      " [ 4  3  2  6  0  0  0]\n",
      " [ 4  3  2  6  9  2  7]\n",
      " [ 8  3  2  5  0  0  0]\n",
      " [10  8 11  2  7 12 13]]\n"
     ]
    }
   ],
   "source": [
    "import tensorflow as tf\n",
    "from tensorflow import keras\n",
    "from tensorflow.keras.preprocessing.text import Tokenizer\n",
    "from tensorflow.keras.preprocessing.sequence import pad_sequences\n",
    "\n",
    "\n",
    "sentences = [\n",
    "  'i love my dog',\n",
    "  'I love my cat',\n",
    "  'I love my cat, and my bird!!',\n",
    "  'You love my dog!',\n",
    "  'Do you think my bird is cool?'\n",
    "]\n",
    "\n",
    "tokenizer = Tokenizer(num_words = 100, oov_token='<OOV>')\n",
    "tokenizer.fit_on_texts(sentences)\n",
    "sequences = tokenizer.texts_to_sequences(sentences)\n",
    "padded = pad_sequences(sequences, padding='post', truncating='post', maxlen=7)\n",
    "\n",
    "print(tokenizer.word_index)\n",
    "print(sequences)\n",
    "print(padded)\n"
   ]
  },
  {
   "cell_type": "code",
   "execution_count": 23,
   "metadata": {},
   "outputs": [
    {
     "name": "stdout",
     "output_type": "stream",
     "text": [
      "[[2, 5, 1, 1], [1, 10, 8, 11]]\n",
      "[[ 2  5  1  1  0  0  0  0  0  0]\n",
      " [ 1 10  8 11  0  0  0  0  0  0]]\n"
     ]
    }
   ],
   "source": [
    "\n",
    "test_texts = [\n",
    "  'my dog loves carrot',\n",
    "  'What do you think?'\n",
    "]\n",
    "\n",
    "test_sequences = tokenizer.texts_to_sequences(test_texts)\n",
    "print(test_sequences)\n",
    "test_padded = pad_sequences(test_sequences, padding='post', truncating='post', maxlen=10)\n",
    "print(test_padded)\n"
   ]
  }
 ],
 "metadata": {
  "kernelspec": {
   "display_name": "Python 3",
   "language": "python",
   "name": "python3"
  },
  "language_info": {
   "codemirror_mode": {
    "name": "ipython",
    "version": 3
   },
   "file_extension": ".py",
   "mimetype": "text/x-python",
   "name": "python",
   "nbconvert_exporter": "python",
   "pygments_lexer": "ipython3",
   "version": "3.7.3"
  }
 },
 "nbformat": 4,
 "nbformat_minor": 2
}
